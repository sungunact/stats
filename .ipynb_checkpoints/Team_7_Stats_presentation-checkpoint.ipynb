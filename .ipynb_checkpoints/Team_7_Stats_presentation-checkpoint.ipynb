{
 "cells": [
  {
   "cell_type": "markdown",
   "metadata": {},
   "source": [
    "# Statistical Analysis of Onion prices and Rainfall in different cities"
   ]
  },
  {
   "cell_type": "markdown",
   "metadata": {},
   "source": [
    " # Questions:\n",
    " \n",
    " 1. Is there any strong or weak correlation between rainfall & price of onion & Tomato ?\n",
    " 2. Is there any differences of price between states / Regions?\n",
    " 3. Is there any other factors apart from rainfall on the price of onion & Tomato?\n",
    " 4. How to analyse the supply & demand and decide which crop to harvest as a farmer?\n",
    " 5. which region is the best place to sell?\n",
    " 6. Average price of Onions is 1300. Prove it with 95% confidence level\n"
   ]
  },
  {
   "cell_type": "code",
   "execution_count": 2,
   "metadata": {},
   "outputs": [],
   "source": [
    "import pandas as pd\n",
    "import numpy as np\n",
    "import seaborn as sns\n",
    "import matplotlib.pyplot as plt\n",
    "import matplotlib\n",
    "%matplotlib inline\n",
    "import scipy.stats as stats\n",
    "from scipy.stats import shapiro\n",
    "from statsmodels.stats import weightstats as stests"
   ]
  },
  {
   "cell_type": "code",
   "execution_count": 3,
   "metadata": {},
   "outputs": [],
   "source": [
    "data=pd.read_csv('Onion_weekly.csv')"
   ]
  },
  {
   "cell_type": "code",
   "execution_count": 4,
   "metadata": {},
   "outputs": [
    {
     "data": {
      "text/html": [
       "<div>\n",
       "<style scoped>\n",
       "    .dataframe tbody tr th:only-of-type {\n",
       "        vertical-align: middle;\n",
       "    }\n",
       "\n",
       "    .dataframe tbody tr th {\n",
       "        vertical-align: top;\n",
       "    }\n",
       "\n",
       "    .dataframe thead th {\n",
       "        text-align: right;\n",
       "    }\n",
       "</style>\n",
       "<table border=\"1\" class=\"dataframe\">\n",
       "  <thead>\n",
       "    <tr style=\"text-align: right;\">\n",
       "      <th></th>\n",
       "      <th>Year</th>\n",
       "      <th>CW</th>\n",
       "      <th>Location</th>\n",
       "      <th>Onion_Price</th>\n",
       "      <th>Rainfall</th>\n",
       "    </tr>\n",
       "  </thead>\n",
       "  <tbody>\n",
       "    <tr>\n",
       "      <th>0</th>\n",
       "      <td>2015</td>\n",
       "      <td>1</td>\n",
       "      <td>Bangalore</td>\n",
       "      <td>1200</td>\n",
       "      <td>5.5</td>\n",
       "    </tr>\n",
       "    <tr>\n",
       "      <th>1</th>\n",
       "      <td>2015</td>\n",
       "      <td>2</td>\n",
       "      <td>Bangalore</td>\n",
       "      <td>1359</td>\n",
       "      <td>5.5</td>\n",
       "    </tr>\n",
       "    <tr>\n",
       "      <th>2</th>\n",
       "      <td>2015</td>\n",
       "      <td>3</td>\n",
       "      <td>Bangalore</td>\n",
       "      <td>1208</td>\n",
       "      <td>5.5</td>\n",
       "    </tr>\n",
       "    <tr>\n",
       "      <th>3</th>\n",
       "      <td>2015</td>\n",
       "      <td>4</td>\n",
       "      <td>Bangalore</td>\n",
       "      <td>1352</td>\n",
       "      <td>5.5</td>\n",
       "    </tr>\n",
       "    <tr>\n",
       "      <th>4</th>\n",
       "      <td>2015</td>\n",
       "      <td>5</td>\n",
       "      <td>Bangalore</td>\n",
       "      <td>1323</td>\n",
       "      <td>5.5</td>\n",
       "    </tr>\n",
       "    <tr>\n",
       "      <th>...</th>\n",
       "      <td>...</td>\n",
       "      <td>...</td>\n",
       "      <td>...</td>\n",
       "      <td>...</td>\n",
       "      <td>...</td>\n",
       "    </tr>\n",
       "    <tr>\n",
       "      <th>785</th>\n",
       "      <td>2017</td>\n",
       "      <td>48</td>\n",
       "      <td>Kolkata</td>\n",
       "      <td>4625</td>\n",
       "      <td>25.7</td>\n",
       "    </tr>\n",
       "    <tr>\n",
       "      <th>786</th>\n",
       "      <td>2017</td>\n",
       "      <td>49</td>\n",
       "      <td>Kolkata</td>\n",
       "      <td>4625</td>\n",
       "      <td>15.0</td>\n",
       "    </tr>\n",
       "    <tr>\n",
       "      <th>787</th>\n",
       "      <td>2017</td>\n",
       "      <td>50</td>\n",
       "      <td>Kolkata</td>\n",
       "      <td>4625</td>\n",
       "      <td>15.0</td>\n",
       "    </tr>\n",
       "    <tr>\n",
       "      <th>788</th>\n",
       "      <td>2017</td>\n",
       "      <td>51</td>\n",
       "      <td>Kolkata</td>\n",
       "      <td>4625</td>\n",
       "      <td>15.0</td>\n",
       "    </tr>\n",
       "    <tr>\n",
       "      <th>789</th>\n",
       "      <td>2017</td>\n",
       "      <td>52</td>\n",
       "      <td>Kolkata</td>\n",
       "      <td>4625</td>\n",
       "      <td>15.0</td>\n",
       "    </tr>\n",
       "  </tbody>\n",
       "</table>\n",
       "<p>790 rows × 5 columns</p>\n",
       "</div>"
      ],
      "text/plain": [
       "     Year  CW   Location  Onion_Price  Rainfall\n",
       "0    2015   1  Bangalore         1200       5.5\n",
       "1    2015   2  Bangalore         1359       5.5\n",
       "2    2015   3  Bangalore         1208       5.5\n",
       "3    2015   4  Bangalore         1352       5.5\n",
       "4    2015   5  Bangalore         1323       5.5\n",
       "..    ...  ..        ...          ...       ...\n",
       "785  2017  48    Kolkata         4625      25.7\n",
       "786  2017  49    Kolkata         4625      15.0\n",
       "787  2017  50    Kolkata         4625      15.0\n",
       "788  2017  51    Kolkata         4625      15.0\n",
       "789  2017  52    Kolkata         4625      15.0\n",
       "\n",
       "[790 rows x 5 columns]"
      ]
     },
     "execution_count": 4,
     "metadata": {},
     "output_type": "execute_result"
    }
   ],
   "source": [
    "data"
   ]
  },
  {
   "cell_type": "code",
   "execution_count": 5,
   "metadata": {},
   "outputs": [
    {
     "data": {
      "text/plain": [
       "(790, 5)"
      ]
     },
     "execution_count": 5,
     "metadata": {},
     "output_type": "execute_result"
    }
   ],
   "source": [
    "data.shape"
   ]
  },
  {
   "cell_type": "code",
   "execution_count": 6,
   "metadata": {},
   "outputs": [
    {
     "data": {
      "text/plain": [
       "Year             int64\n",
       "CW               int64\n",
       "Location        object\n",
       "Onion_Price      int64\n",
       "Rainfall       float64\n",
       "dtype: object"
      ]
     },
     "execution_count": 6,
     "metadata": {},
     "output_type": "execute_result"
    }
   ],
   "source": [
    "data.dtypes"
   ]
  },
  {
   "cell_type": "code",
   "execution_count": 7,
   "metadata": {},
   "outputs": [],
   "source": [
    "data['Year']=data['Year'].astype('object',copy='False')\n",
    "data['CW']=data['CW'].astype('object',copy='False')"
   ]
  },
  {
   "cell_type": "code",
   "execution_count": 8,
   "metadata": {},
   "outputs": [
    {
     "data": {
      "text/plain": [
       "Year            object\n",
       "CW              object\n",
       "Location        object\n",
       "Onion_Price      int64\n",
       "Rainfall       float64\n",
       "dtype: object"
      ]
     },
     "execution_count": 8,
     "metadata": {},
     "output_type": "execute_result"
    }
   ],
   "source": [
    "data.dtypes\n"
   ]
  },
  {
   "cell_type": "markdown",
   "metadata": {},
   "source": [
    "The categorical variables are Year, CW & Location.\n"
   ]
  },
  {
   "cell_type": "markdown",
   "metadata": {},
   "source": [
    "The Numerical variables are Onion price & Rainfall "
   ]
  },
  {
   "cell_type": "code",
   "execution_count": 9,
   "metadata": {},
   "outputs": [
    {
     "data": {
      "text/plain": [
       "Year           0\n",
       "CW             0\n",
       "Location       0\n",
       "Onion_Price    0\n",
       "Rainfall       0\n",
       "dtype: int64"
      ]
     },
     "execution_count": 9,
     "metadata": {},
     "output_type": "execute_result"
    }
   ],
   "source": [
    "data.isnull().sum()"
   ]
  },
  {
   "cell_type": "markdown",
   "metadata": {},
   "source": [
    "# description of the data"
   ]
  },
  {
   "cell_type": "code",
   "execution_count": 10,
   "metadata": {},
   "outputs": [
    {
     "data": {
      "text/html": [
       "<div>\n",
       "<style scoped>\n",
       "    .dataframe tbody tr th:only-of-type {\n",
       "        vertical-align: middle;\n",
       "    }\n",
       "\n",
       "    .dataframe tbody tr th {\n",
       "        vertical-align: top;\n",
       "    }\n",
       "\n",
       "    .dataframe thead th {\n",
       "        text-align: right;\n",
       "    }\n",
       "</style>\n",
       "<table border=\"1\" class=\"dataframe\">\n",
       "  <thead>\n",
       "    <tr style=\"text-align: right;\">\n",
       "      <th></th>\n",
       "      <th>Onion_Price</th>\n",
       "      <th>Rainfall</th>\n",
       "    </tr>\n",
       "  </thead>\n",
       "  <tbody>\n",
       "    <tr>\n",
       "      <th>count</th>\n",
       "      <td>790.000000</td>\n",
       "      <td>790.000000</td>\n",
       "    </tr>\n",
       "    <tr>\n",
       "      <th>mean</th>\n",
       "      <td>1550.041772</td>\n",
       "      <td>225.254430</td>\n",
       "    </tr>\n",
       "    <tr>\n",
       "      <th>std</th>\n",
       "      <td>904.236131</td>\n",
       "      <td>303.469795</td>\n",
       "    </tr>\n",
       "    <tr>\n",
       "      <th>min</th>\n",
       "      <td>321.000000</td>\n",
       "      <td>0.000000</td>\n",
       "    </tr>\n",
       "    <tr>\n",
       "      <th>25%</th>\n",
       "      <td>796.000000</td>\n",
       "      <td>9.500000</td>\n",
       "    </tr>\n",
       "    <tr>\n",
       "      <th>50%</th>\n",
       "      <td>1392.000000</td>\n",
       "      <td>71.800000</td>\n",
       "    </tr>\n",
       "    <tr>\n",
       "      <th>75%</th>\n",
       "      <td>1910.750000</td>\n",
       "      <td>375.800000</td>\n",
       "    </tr>\n",
       "    <tr>\n",
       "      <th>max</th>\n",
       "      <td>5533.000000</td>\n",
       "      <td>1272.100000</td>\n",
       "    </tr>\n",
       "  </tbody>\n",
       "</table>\n",
       "</div>"
      ],
      "text/plain": [
       "       Onion_Price     Rainfall\n",
       "count   790.000000   790.000000\n",
       "mean   1550.041772   225.254430\n",
       "std     904.236131   303.469795\n",
       "min     321.000000     0.000000\n",
       "25%     796.000000     9.500000\n",
       "50%    1392.000000    71.800000\n",
       "75%    1910.750000   375.800000\n",
       "max    5533.000000  1272.100000"
      ]
     },
     "execution_count": 10,
     "metadata": {},
     "output_type": "execute_result"
    }
   ],
   "source": [
    "data.describe()"
   ]
  },
  {
   "cell_type": "code",
   "execution_count": 11,
   "metadata": {},
   "outputs": [
    {
     "data": {
      "image/png": "[encoded data removed]",
      "text/plain": [
       "<Figure size 1440x720 with 10 Axes>"
      ]
     },
     "metadata": {
      "needs_background": "light"
     },
     "output_type": "display_data"
    }
   ],
   "source": [
    "from matplotlib import gridspec\n",
    "plt.rcParams['figure.figsize'] = [20,10]\n",
    "gs = gridspec.GridSpec(5,5, width_ratios=[15, 15, 15, 15, 15], height_ratios=[.80, .50, .15, .15, .15],hspace =1, wspace=0.5)\n",
    "a1 = plt.subplot(gs[0, 0])\n",
    "a1.set_title(\"Bangalore Price Distribution\", fontsize=15)\n",
    "a1=sns.distplot(data[data['Location']=='Bangalore']['Onion_Price'])\n",
    "\n",
    "a2 = plt.subplot(gs[0, 1])\n",
    "a2.set_title(\"Delhi Price Distribution\", fontsize=15)\n",
    "a2=sns.distplot(data[data['Location']=='Delhi']['Onion_Price'])\n",
    "\n",
    "a3 = plt.subplot(gs[0, 2])\n",
    "a3.set_title(\"Hyderabad Price Distribution\", fontsize=15)\n",
    "a3=sns.distplot(data[data['Location']=='Hyderabad']['Onion_Price'])\n",
    "\n",
    "a4 = plt.subplot(gs[0, 3])\n",
    "a4.set_title(\" Kolkata Price Distribution\", fontsize=15)\n",
    "a4=sns.distplot(data[data['Location']=='Kolkata']['Onion_Price'])\n",
    "\n",
    "a5 = plt.subplot(gs[0, 4])\n",
    "a5.set_title(\" Pune Price Distribution\", fontsize=15)\n",
    "a5=sns.distplot(data[data['Location']=='Pune']['Onion_Price'])\n",
    "\n",
    "b1 = plt.subplot(gs[1, 0])\n",
    "b1= sns.boxplot(data[data['Location']=='Bangalore']['Onion_Price'])\n",
    "\n",
    "b2 = plt.subplot(gs[1, 1])\n",
    "b2= sns.boxplot(data[data['Location']=='Delhi']['Onion_Price'])\n",
    "\n",
    "b3 = plt.subplot(gs[1, 2])\n",
    "b3= sns.boxplot(data[data['Location']=='Hyderabad']['Onion_Price'])\n",
    "\n",
    "\n",
    "b4 = plt.subplot(gs[1, 3])\n",
    "b4= sns.boxplot(data[data['Location']=='Kolkata']['Onion_Price'])\n",
    "\n",
    "b5 = plt.subplot(gs[1, 4])\n",
    "b5 = sns.boxplot(data[data['Location']=='Pune']['Onion_Price'])\n",
    "\n",
    "\n"
   ]
  },
  {
   "cell_type": "code",
   "execution_count": 12,
   "metadata": {},
   "outputs": [
    {
     "data": {
      "image/png": "[encoded data removed]",
      "text/plain": [
       "<Figure size 1440x720 with 1 Axes>"
      ]
     },
     "metadata": {
      "needs_background": "light"
     },
     "output_type": "display_data"
    }
   ],
   "source": [
    "plt.rcParams['figure.figsize'] = [20,10]\n",
    "sns.boxplot(x='Location',y='Onion_Price', data=data)\n",
    "plt.show()"
   ]
  },
  {
   "cell_type": "code",
   "execution_count": 13,
   "metadata": {},
   "outputs": [
    {
     "data": {
      "image/png": "[encoded data removed]",
      "text/plain": [
       "<Figure size 1440x720 with 1 Axes>"
      ]
     },
     "metadata": {
      "needs_background": "light"
     },
     "output_type": "display_data"
    }
   ],
   "source": [
    "sns.boxplot(x='Location',y='Rainfall', data=data)\n",
    "plt.show()"
   ]
  },
  {
   "cell_type": "code",
   "execution_count": 14,
   "metadata": {},
   "outputs": [
    {
     "data": {
      "text/html": [
       "<div>\n",
       "<style scoped>\n",
       "    .dataframe tbody tr th:only-of-type {\n",
       "        vertical-align: middle;\n",
       "    }\n",
       "\n",
       "    .dataframe tbody tr th {\n",
       "        vertical-align: top;\n",
       "    }\n",
       "\n",
       "    .dataframe thead th {\n",
       "        text-align: right;\n",
       "    }\n",
       "</style>\n",
       "<table border=\"1\" class=\"dataframe\">\n",
       "  <thead>\n",
       "    <tr style=\"text-align: right;\">\n",
       "      <th></th>\n",
       "      <th>Onion_Price</th>\n",
       "      <th>Rainfall</th>\n",
       "    </tr>\n",
       "  </thead>\n",
       "  <tbody>\n",
       "    <tr>\n",
       "      <th>Onion_Price</th>\n",
       "      <td>1.000000</td>\n",
       "      <td>0.142714</td>\n",
       "    </tr>\n",
       "    <tr>\n",
       "      <th>Rainfall</th>\n",
       "      <td>0.142714</td>\n",
       "      <td>1.000000</td>\n",
       "    </tr>\n",
       "  </tbody>\n",
       "</table>\n",
       "</div>"
      ],
      "text/plain": [
       "             Onion_Price  Rainfall\n",
       "Onion_Price     1.000000  0.142714\n",
       "Rainfall        0.142714  1.000000"
      ]
     },
     "execution_count": 14,
     "metadata": {},
     "output_type": "execute_result"
    }
   ],
   "source": [
    "corr = data.corr()\n",
    "corr"
   ]
  },
  {
   "cell_type": "code",
   "execution_count": 15,
   "metadata": {},
   "outputs": [
    {
     "data": {
      "image/png": "[encoded data removed]",
      "text/plain": [
       "<Figure size 720x720 with 2 Axes>"
      ]
     },
     "metadata": {
      "needs_background": "light"
     },
     "output_type": "display_data"
    }
   ],
   "source": [
    "fig,ax = plt.subplots(figsize=(10, 10))\n",
    "sns.heatmap(corr, annot = True, linewidths = 0.05, vmin = -1 , vmax = 1, cmap = \"YlGnBu\" , fmt = '10.4f')\n",
    "plt.show()"
   ]
  },
  {
   "cell_type": "markdown",
   "metadata": {},
   "source": [
    "# Hypothesis Testing:\n"
   ]
  },
  {
   "cell_type": "markdown",
   "metadata": {},
   "source": [
    "## 1. The prices of onions are compared between two years i.e. 2015 & 2017\n",
    "\n"
   ]
  },
  {
   "cell_type": "markdown",
   "metadata": {},
   "source": [
    "Let  𝐹𝑋  be the distribution of onion prices in the year 2015 and  𝐹𝑌  be the distribution of onion prices in the year 2017.\n",
    "\n",
    "Where,\n",
    "\n",
    "The null and alternative hypothesis is:\n",
    "\n",
    "H0:  𝐹𝑋=𝐹𝑌 \n",
    "H1:  𝐹𝑋≠𝐹𝑌"
   ]
  },
  {
   "cell_type": "code",
   "execution_count": 16,
   "metadata": {},
   "outputs": [
    {
     "name": "stdout",
     "output_type": "stream",
     "text": [
      "P-Value: 3.7240303143125296e-17\n"
     ]
    }
   ],
   "source": [
    "data_2015=data[data['Year']==2015]['Onion_Price']\n",
    "#to check the normlity of the data\n",
    "stat, p_value = shapiro(data_2015)\n",
    "print('P-Value:', p_value)"
   ]
  },
  {
   "cell_type": "markdown",
   "metadata": {},
   "source": [
    "From the above result, we can see that the p-value is less than 0.05, thus we can say that the Onion prices in the year 2015 is  not normally distributed"
   ]
  },
  {
   "cell_type": "code",
   "execution_count": 17,
   "metadata": {},
   "outputs": [
    {
     "name": "stdout",
     "output_type": "stream",
     "text": [
      "P-Value: 5.457577206997855e-13\n"
     ]
    }
   ],
   "source": [
    "data_2017=data[data['Year']==2017]['Onion_Price']\n",
    "#to check the normlity of the data\n",
    "stat, p_value = shapiro(data_2017)\n",
    "print('P-Value:', p_value)"
   ]
  },
  {
   "cell_type": "markdown",
   "metadata": {},
   "source": [
    "From the above result, we can see that the p-value is more than 0.05, thus we can say that the Onion prices in the year 2017 is  normally distributed. \n",
    "Hence considering the above conditions, Mann-Whitney U Test will be applied for comparision\n"
   ]
  },
  {
   "cell_type": "markdown",
   "metadata": {},
   "source": [
    "# Mann-Whitney U Test"
   ]
  },
  {
   "cell_type": "code",
   "execution_count": 18,
   "metadata": {},
   "outputs": [
    {
     "name": "stdout",
     "output_type": "stream",
     "text": [
      "Test statistic: 42825.5\n",
      "p-value: 1.4413223135763865e-06\n"
     ]
    }
   ],
   "source": [
    "test_stat, p_value = stats.mannwhitneyu(data_2015, data_2017, alternative = 'two-sided')\n",
    "\n",
    "# print the test statistic and corresponding p-value\n",
    "print('Test statistic:', test_stat)\n",
    "print('p-value:', p_value)"
   ]
  },
  {
   "cell_type": "markdown",
   "metadata": {},
   "source": [
    "### Here the p-value is lesser than 0.05. Thus we reject  the null hypothesis and we can conclude that the average onion price is not same for both the years 2015 & 2017."
   ]
  },
  {
   "cell_type": "markdown",
   "metadata": {},
   "source": [
    "## 2.The prices of onions are compared between Bangalore and Kolkata\n",
    "\n",
    "Let 𝐹𝑋 be the distribution of onion prices in Kolkata and 𝐹𝑌 be the distribution of onion prices in Bangalore.\n",
    "\n",
    "Where,\n",
    "\n",
    "The null and alternative hypothesis is:\n",
    "\n",
    "H0: 𝐹𝑋<=𝐹𝑌 H1: 𝐹𝑋>𝐹𝑌"
   ]
  },
  {
   "cell_type": "code",
   "execution_count": 19,
   "metadata": {},
   "outputs": [
    {
     "name": "stdout",
     "output_type": "stream",
     "text": [
      "P-Value: 3.7493898502431733e-13\n"
     ]
    }
   ],
   "source": [
    "data_Bang=data[data['Location']=='Bangalore']['Onion_Price']\n",
    "#to check the normlity of the data\n",
    "stat, p_value = shapiro(data_Bang)\n",
    "print('P-Value:', p_value)"
   ]
  },
  {
   "cell_type": "code",
   "execution_count": 20,
   "metadata": {},
   "outputs": [
    {
     "name": "stdout",
     "output_type": "stream",
     "text": [
      "P-Value: 2.2534181551986388e-12\n"
     ]
    }
   ],
   "source": [
    "data_Kolkata=data[data['Location']=='Kolkata']['Onion_Price']\n",
    "#to check the normlity of the data\n",
    "stat, p_value = shapiro(data_Kolkata)\n",
    "print('P-Value:', p_value)"
   ]
  },
  {
   "cell_type": "markdown",
   "metadata": {},
   "source": [
    "### From the above result, we can see that the p-value is more than 0.05, thus we can say that the Onion prices in Bangalore and Kolkata is not normally distributed. "
   ]
  },
  {
   "cell_type": "code",
   "execution_count": 21,
   "metadata": {},
   "outputs": [
    {
     "name": "stdout",
     "output_type": "stream",
     "text": [
      "Test statistic: 7170.0\n",
      "p-value: 0.9999999999696427\n"
     ]
    }
   ],
   "source": [
    "test_stat, p_value = stats.mannwhitneyu(data_Bang, data_Kolkata, alternative = 'greater')\n",
    "\n",
    "# print the test statistic and corresponding p-value\n",
    "print('Test statistic:', test_stat)\n",
    "print('p-value:', p_value)"
   ]
  },
  {
   "cell_type": "markdown",
   "metadata": {},
   "source": [
    "### Here the p-value is greater than 0.05. Thus we fail to reject  the null hypothesis and we can conclude that the average onion price of bangalore is not less than average onion price of the Kolkata"
   ]
  },
  {
   "cell_type": "markdown",
   "metadata": {},
   "source": [
    "# How are the seasons affecting on the price of onion?"
   ]
  },
  {
   "cell_type": "code",
   "execution_count": 22,
   "metadata": {},
   "outputs": [],
   "source": [
    "#Adding a date coulum\n",
    "data['date'] = pd.to_datetime(data.CW.astype(str)+\n",
    "                           data.Year.astype(str).add('-1') ,format='%V%G-%u')"
   ]
  },
  {
   "cell_type": "code",
   "execution_count": 23,
   "metadata": {},
   "outputs": [],
   "source": [
    "#Addition of seasons based on the dates. \n",
    "#Spring=1\n",
    "#Summer=2\n",
    "#Monsoon=3\n",
    "#Winter=4\n",
    "def season_of_date(date):\n",
    "    year = str(date.year)\n",
    "    seasons = {1: pd.date_range(start='01/02/'+year, end='31/03/'+year),\n",
    "               2: pd.date_range(start='01/04/'+year, end='30/06/'+year),\n",
    "               3: pd.date_range(start='01/07/'+year, end='15/09/'+year)}\n",
    "    if date in seasons[1]:\n",
    "        return 1\n",
    "    if date in seasons[2]:\n",
    "        return 2\n",
    "    if date in seasons[3]:\n",
    "        return 3\n",
    "    else:\n",
    "        return 4\n",
    "\n",
    "# Assuming df has a date column of type `datetime`\n",
    "data['season'] = data.date.map(season_of_date)"
   ]
  },
  {
   "cell_type": "code",
   "execution_count": 30,
   "metadata": {},
   "outputs": [
    {
     "name": "stdout",
     "output_type": "stream",
     "text": [
      "P value for m1:  5.254427115630733e-09\n",
      "P value for m2:  2.27472679581453e-10\n",
      "P value for m3:  2.1869107913463637e-10\n",
      "P value for m3:  2.1869107913463637e-10\n",
      "P value for levene:  6.81631922623761e-17\n"
     ]
    }
   ],
   "source": [
    "alpha=0.05\n",
    "data.dropna(inplace=True)\n",
    "\n",
    "m1 = data[data['season'] == 1][\"Onion_Price\"]\n",
    "m2 = data[data['season'] == 2][\"Onion_Price\"]\n",
    "m3 = data[data['season'] == 3][\"Onion_Price\"]\n",
    "m4 = data[data['season'] == 4][\"Onion_Price\"]\n",
    "\n",
    "test, p_val = stats.shapiro(m1)\n",
    "print('P value for m1: ', p_val)\n",
    "\n",
    "test, p_val = stats.shapiro(m2)\n",
    "print('P value for m2: ', p_val)\n",
    "\n",
    "test, p_val = stats.shapiro(m3)\n",
    "print('P value for m3: ', p_val)\n",
    "\n",
    "test, p_val = stats.shapiro(m3)\n",
    "print('P value for m3: ', p_val)\n",
    "\n",
    "test, p_val = stats.levene(m1,m2,m3)\n",
    "print('P value for levene: ', p_val)\n",
    "\n"
   ]
  },
  {
   "cell_type": "markdown",
   "metadata": {},
   "source": [
    "# KRUSKAL WALLIS H TEST\n",
    "Now we are going to check whether the average price of onion is same or different based on theweather conditions.\n",
    "The Null and Alternative Hypothesis is:\n",
    "\n",
    "\n",
    "H0: Average price is the same for each Season.\n",
    "\n",
    "H1: Average price is different for at least oneseason.\n",
    "\n",
    "\n",
    "\n",
    "Using KRUSKAL WALLIS H TEST since we are trying to compare betweena categorical variable and a numerical variable for non parametric data.\n",
    "\n",
    "KRUSKAL WALLIS H TEST helps us to determine how the seasons impact the price ranges of onion. "
   ]
  },
  {
   "cell_type": "code",
   "execution_count": 31,
   "metadata": {},
   "outputs": [
    {
     "name": "stdout",
     "output_type": "stream",
     "text": [
      "P_value for Kruskal :  2.534574336804502e-22\n",
      "Significance level:  0.05\n"
     ]
    }
   ],
   "source": [
    "test_stat, p_value = stats.kruskal(data[data['season'] == 1][\"Onion_Price\"],\n",
    "              data[data['season'] == 2][\"Onion_Price\"],\n",
    "              data[data['season'] == 3][\"Onion_Price\"],\n",
    "                                   data[data['season'] == 4][\"Onion_Price\"])\n",
    "print('P_value for Kruskal : ', p_value)\n",
    "print('Significance level: ',alpha)"
   ]
  },
  {
   "cell_type": "markdown",
   "metadata": {},
   "source": [
    "# Interpreting  p-value\n",
    "\n",
    "We have to compare the p-value to our chosen alpha, in this case, 1.1983693306802372e-21.\n",
    "\n",
    "Our p-value of 1.1983693306802372e-21 is less than 0,05, so we reject our null hypothesis and we accept our alternative. \n",
    "\n",
    "Even though the four season's sample means are different, we have a statistically significant difference.\n",
    "\n",
    "This means that with the observed data, there is enough evidence to assume that the onion price is different accross all or atleast one season. \n",
    "\n",
    "Therefore we reject the null hypothesis and agree that the seasons have impact on the onion price ranges amoung the four states."
   ]
  },
  {
   "cell_type": "code",
   "execution_count": null,
   "metadata": {},
   "outputs": [],
   "source": []
  }
 ],
 "metadata": {
  "kernelspec": {
   "display_name": "Python 3",
   "language": "python",
   "name": "python3"
  },
  "language_info": {
   "codemirror_mode": {
    "name": "ipython",
    "version": 3
   },
   "file_extension": ".py",
   "mimetype": "text/x-python",
   "name": "python",
   "nbconvert_exporter": "python",
   "pygments_lexer": "ipython3",
   "version": "3.8.3"
  }
 },
 "nbformat": 4,
 "nbformat_minor": 4
}
