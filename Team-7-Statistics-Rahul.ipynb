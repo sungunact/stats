{
 "cells": [
  {
   "cell_type": "markdown",
   "metadata": {},
   "source": [
    " # Questions:\n",
    " \n",
    " 1. Is there any strong or weak correlation between rainfall & price of onion & Tomato ?\n",
    " 2. Is there any differences of price between states / Regions?\n",
    " 3. Is there any other factors apart from rainfall on the price of onion & Tomato?\n",
    " 4. How to analyse the supply & demand and decide which crop to harvest as a farmer?\n",
    " 5. which region is the best place to sell?\n",
    " 6. Average price of Onions is 1300. Prove it with 95% confidence level\n"
   ]
  },
  {
   "cell_type": "code",
   "execution_count": 32,
   "metadata": {},
   "outputs": [],
   "source": [
    "\n",
    "import pandas as pd\n",
    "import numpy as np\n",
    "import seaborn as sns\n",
    "import matplotlib.pyplot as plt\n",
    "import matplotlib\n",
    "%matplotlib inline\n",
    "import scipy\n",
    "import scipy.stats as stats\n",
    "\n",
    "\n",
    "# import statsmodels\n",
    "import statsmodels.api as sm\n",
    "\n",
    "# import statistics to perform statistical computations\n",
    "import statistics\n",
    "\n",
    "# to test the normality \n",
    "from scipy.stats import shapiro\n",
    "\n",
    "# import a library to perform Z-test\n",
    "from statsmodels.stats import weightstats as stests\n",
    "\n",
    "import statsmodels.api         as     sm\n",
    "from   statsmodels.formula.api import ols\n",
    "from   statsmodels.stats.anova import anova_lm"
   ]
  },
  {
   "cell_type": "code",
   "execution_count": 5,
   "metadata": {},
   "outputs": [],
   "source": [
    "data=pd.read_csv('Onion_weekly.csv')"
   ]
  },
  {
   "cell_type": "code",
   "execution_count": 6,
   "metadata": {},
   "outputs": [
    {
     "data": {
      "text/html": [
       "<div>\n",
       "<style scoped>\n",
       "    .dataframe tbody tr th:only-of-type {\n",
       "        vertical-align: middle;\n",
       "    }\n",
       "\n",
       "    .dataframe tbody tr th {\n",
       "        vertical-align: top;\n",
       "    }\n",
       "\n",
       "    .dataframe thead th {\n",
       "        text-align: right;\n",
       "    }\n",
       "</style>\n",
       "<table border=\"1\" class=\"dataframe\">\n",
       "  <thead>\n",
       "    <tr style=\"text-align: right;\">\n",
       "      <th></th>\n",
       "      <th>Year</th>\n",
       "      <th>CW</th>\n",
       "      <th>Location</th>\n",
       "      <th>Onion_Price</th>\n",
       "      <th>Rainfall</th>\n",
       "    </tr>\n",
       "  </thead>\n",
       "  <tbody>\n",
       "    <tr>\n",
       "      <th>0</th>\n",
       "      <td>2015</td>\n",
       "      <td>1</td>\n",
       "      <td>Bangalore</td>\n",
       "      <td>1200.0</td>\n",
       "      <td>5.5</td>\n",
       "    </tr>\n",
       "    <tr>\n",
       "      <th>1</th>\n",
       "      <td>2015</td>\n",
       "      <td>2</td>\n",
       "      <td>Bangalore</td>\n",
       "      <td>1359.0</td>\n",
       "      <td>5.5</td>\n",
       "    </tr>\n",
       "    <tr>\n",
       "      <th>2</th>\n",
       "      <td>2015</td>\n",
       "      <td>3</td>\n",
       "      <td>Bangalore</td>\n",
       "      <td>1208.0</td>\n",
       "      <td>5.5</td>\n",
       "    </tr>\n",
       "    <tr>\n",
       "      <th>3</th>\n",
       "      <td>2015</td>\n",
       "      <td>4</td>\n",
       "      <td>Bangalore</td>\n",
       "      <td>1352.0</td>\n",
       "      <td>5.5</td>\n",
       "    </tr>\n",
       "    <tr>\n",
       "      <th>4</th>\n",
       "      <td>2015</td>\n",
       "      <td>5</td>\n",
       "      <td>Bangalore</td>\n",
       "      <td>1323.0</td>\n",
       "      <td>5.5</td>\n",
       "    </tr>\n",
       "  </tbody>\n",
       "</table>\n",
       "</div>"
      ],
      "text/plain": [
       "   Year  CW   Location  Onion_Price  Rainfall\n",
       "0  2015   1  Bangalore       1200.0       5.5\n",
       "1  2015   2  Bangalore       1359.0       5.5\n",
       "2  2015   3  Bangalore       1208.0       5.5\n",
       "3  2015   4  Bangalore       1352.0       5.5\n",
       "4  2015   5  Bangalore       1323.0       5.5"
      ]
     },
     "execution_count": 6,
     "metadata": {},
     "output_type": "execute_result"
    }
   ],
   "source": [
    "data.head()"
   ]
  },
  {
   "cell_type": "markdown",
   "metadata": {},
   "source": [
    "step 1: describe the data\n",
    "Step 2 : plot the data with histogram, box plot, cross plot, heatmap (pearson correlation)\n",
    "step 3 : check whether the data is normal and variances are equal and decide what tests can be done based on the questions (1 sample z test or t-test) - hypothesis testing\n",
    "step 4 : Simulation\n",
    "step 5 : Conclude with the suggestions based on test results"
   ]
  },
  {
   "cell_type": "code",
   "execution_count": 7,
   "metadata": {},
   "outputs": [
    {
     "data": {
      "text/plain": [
       "(790, 5)"
      ]
     },
     "execution_count": 7,
     "metadata": {},
     "output_type": "execute_result"
    }
   ],
   "source": [
    "data.shape"
   ]
  },
  {
   "cell_type": "code",
   "execution_count": 8,
   "metadata": {},
   "outputs": [
    {
     "data": {
      "text/plain": [
       "Year             int64\n",
       "CW               int64\n",
       "Location        object\n",
       "Onion_Price    float64\n",
       "Rainfall       float64\n",
       "dtype: object"
      ]
     },
     "execution_count": 8,
     "metadata": {},
     "output_type": "execute_result"
    }
   ],
   "source": [
    "data.dtypes"
   ]
  },
  {
   "cell_type": "code",
   "execution_count": 9,
   "metadata": {},
   "outputs": [],
   "source": [
    "data['Year']=data['Year'].astype('object',copy='False')\n",
    "data['CW']=data['CW'].astype('object',copy='False')"
   ]
  },
  {
   "cell_type": "code",
   "execution_count": 10,
   "metadata": {},
   "outputs": [
    {
     "data": {
      "text/plain": [
       "Year            object\n",
       "CW              object\n",
       "Location        object\n",
       "Onion_Price    float64\n",
       "Rainfall       float64\n",
       "dtype: object"
      ]
     },
     "execution_count": 10,
     "metadata": {},
     "output_type": "execute_result"
    }
   ],
   "source": [
    "data.dtypes"
   ]
  },
  {
   "cell_type": "markdown",
   "metadata": {},
   "source": [
    "# description of the data"
   ]
  },
  {
   "cell_type": "code",
   "execution_count": 11,
   "metadata": {},
   "outputs": [
    {
     "data": {
      "text/html": [
       "<div>\n",
       "<style scoped>\n",
       "    .dataframe tbody tr th:only-of-type {\n",
       "        vertical-align: middle;\n",
       "    }\n",
       "\n",
       "    .dataframe tbody tr th {\n",
       "        vertical-align: top;\n",
       "    }\n",
       "\n",
       "    .dataframe thead th {\n",
       "        text-align: right;\n",
       "    }\n",
       "</style>\n",
       "<table border=\"1\" class=\"dataframe\">\n",
       "  <thead>\n",
       "    <tr style=\"text-align: right;\">\n",
       "      <th></th>\n",
       "      <th>Onion_Price</th>\n",
       "      <th>Rainfall</th>\n",
       "    </tr>\n",
       "  </thead>\n",
       "  <tbody>\n",
       "    <tr>\n",
       "      <th>count</th>\n",
       "      <td>783.000000</td>\n",
       "      <td>790.000000</td>\n",
       "    </tr>\n",
       "    <tr>\n",
       "      <th>mean</th>\n",
       "      <td>1536.393359</td>\n",
       "      <td>225.254430</td>\n",
       "    </tr>\n",
       "    <tr>\n",
       "      <th>std</th>\n",
       "      <td>880.497340</td>\n",
       "      <td>303.469795</td>\n",
       "    </tr>\n",
       "    <tr>\n",
       "      <th>min</th>\n",
       "      <td>321.000000</td>\n",
       "      <td>0.000000</td>\n",
       "    </tr>\n",
       "    <tr>\n",
       "      <th>25%</th>\n",
       "      <td>794.500000</td>\n",
       "      <td>9.500000</td>\n",
       "    </tr>\n",
       "    <tr>\n",
       "      <th>50%</th>\n",
       "      <td>1391.000000</td>\n",
       "      <td>71.800000</td>\n",
       "    </tr>\n",
       "    <tr>\n",
       "      <th>75%</th>\n",
       "      <td>1909.500000</td>\n",
       "      <td>375.800000</td>\n",
       "    </tr>\n",
       "    <tr>\n",
       "      <th>max</th>\n",
       "      <td>5533.000000</td>\n",
       "      <td>1272.100000</td>\n",
       "    </tr>\n",
       "  </tbody>\n",
       "</table>\n",
       "</div>"
      ],
      "text/plain": [
       "       Onion_Price     Rainfall\n",
       "count   783.000000   790.000000\n",
       "mean   1536.393359   225.254430\n",
       "std     880.497340   303.469795\n",
       "min     321.000000     0.000000\n",
       "25%     794.500000     9.500000\n",
       "50%    1391.000000    71.800000\n",
       "75%    1909.500000   375.800000\n",
       "max    5533.000000  1272.100000"
      ]
     },
     "execution_count": 11,
     "metadata": {},
     "output_type": "execute_result"
    }
   ],
   "source": [
    "data.describe()"
   ]
  },
  {
   "cell_type": "code",
   "execution_count": 12,
   "metadata": {},
   "outputs": [
    {
     "data": {
      "image/png": "[encoded data removed]",
      "text/plain": [
       "<Figure size 1440x720 with 10 Axes>"
      ]
     },
     "metadata": {
      "needs_background": "light"
     },
     "output_type": "display_data"
    }
   ],
   "source": [
    "from matplotlib import gridspec\n",
    "plt.rcParams['figure.figsize'] = [20,10]\n",
    "gs = gridspec.GridSpec(5,5, width_ratios=[15, 15, 15, 15, 15], height_ratios=[.80, .50, .15, .15, .15],hspace =1, wspace=0.5)\n",
    "a1 = plt.subplot(gs[0, 0])\n",
    "a1.set_title(\"Bangalore Price Distribution\", fontsize=15)\n",
    "a1=sns.distplot(data[data['Location']=='Bangalore']['Onion_Price'])\n",
    "\n",
    "a2 = plt.subplot(gs[0, 1])\n",
    "a2.set_title(\"Delhi Price Distribution\", fontsize=15)\n",
    "a2=sns.distplot(data[data['Location']=='Delhi']['Onion_Price'])\n",
    "\n",
    "a3 = plt.subplot(gs[0, 2])\n",
    "a3.set_title(\"Hyderabad Price Distribution\", fontsize=15)\n",
    "a3=sns.distplot(data[data['Location']=='Hyderabad']['Onion_Price'])\n",
    "\n",
    "a4 = plt.subplot(gs[0, 3])\n",
    "a4.set_title(\" Kolkata Price Distribution\", fontsize=15)\n",
    "a4=sns.distplot(data[data['Location']=='Kolkata']['Onion_Price'])\n",
    "\n",
    "a5 = plt.subplot(gs[0, 4])\n",
    "a5.set_title(\" Pune Price Distribution\", fontsize=15)\n",
    "a5=sns.distplot(data[data['Location']=='Pune']['Onion_Price'])\n",
    "\n",
    "b1 = plt.subplot(gs[1, 0])\n",
    "b1= sns.boxplot(data[data['Location']=='Bangalore']['Onion_Price'])\n",
    "\n",
    "b2 = plt.subplot(gs[1, 1])\n",
    "b2= sns.boxplot(data[data['Location']=='Delhi']['Onion_Price'])\n",
    "\n",
    "b3 = plt.subplot(gs[1, 2])\n",
    "b3= sns.boxplot(data[data['Location']=='Hyderabad']['Onion_Price'])\n",
    "\n",
    "\n",
    "b4 = plt.subplot(gs[1, 3])\n",
    "b4= sns.boxplot(data[data['Location']=='Kolkata']['Onion_Price'])\n",
    "\n",
    "b5 = plt.subplot(gs[1, 4])\n",
    "b5 = sns.boxplot(data[data['Location']=='Pune']['Onion_Price'])"
   ]
  },
  {
   "cell_type": "code",
   "execution_count": null,
   "metadata": {},
   "outputs": [],
   "source": []
  },
  {
   "cell_type": "code",
   "execution_count": 13,
   "metadata": {},
   "outputs": [
    {
     "data": {
      "image/png": "[encoded data removed]",
      "text/plain": [
       "<Figure size 1440x720 with 1 Axes>"
      ]
     },
     "metadata": {
      "needs_background": "light"
     },
     "output_type": "display_data"
    }
   ],
   "source": [
    "sns.boxplot(x='Location',y='Rainfall', data=data)\n",
    "plt.show()\n"
   ]
  },
  {
   "cell_type": "code",
   "execution_count": 14,
   "metadata": {},
   "outputs": [
    {
     "data": {
      "text/plain": [
       "0      1200.0\n",
       "1      1359.0\n",
       "2      1208.0\n",
       "3      1352.0\n",
       "4      1323.0\n",
       "        ...  \n",
       "785    4625.0\n",
       "786       NaN\n",
       "787       NaN\n",
       "788       NaN\n",
       "789       NaN\n",
       "Name: Onion_Price, Length: 790, dtype: float64"
      ]
     },
     "execution_count": 14,
     "metadata": {},
     "output_type": "execute_result"
    }
   ],
   "source": [
    "data['Onion_Price']"
   ]
  },
  {
   "cell_type": "code",
   "execution_count": 15,
   "metadata": {},
   "outputs": [
    {
     "data": {
      "text/html": [
       "<div>\n",
       "<style scoped>\n",
       "    .dataframe tbody tr th:only-of-type {\n",
       "        vertical-align: middle;\n",
       "    }\n",
       "\n",
       "    .dataframe tbody tr th {\n",
       "        vertical-align: top;\n",
       "    }\n",
       "\n",
       "    .dataframe thead th {\n",
       "        text-align: right;\n",
       "    }\n",
       "</style>\n",
       "<table border=\"1\" class=\"dataframe\">\n",
       "  <thead>\n",
       "    <tr style=\"text-align: right;\">\n",
       "      <th></th>\n",
       "      <th>Onion_Price</th>\n",
       "      <th>Rainfall</th>\n",
       "    </tr>\n",
       "  </thead>\n",
       "  <tbody>\n",
       "    <tr>\n",
       "      <th>Onion_Price</th>\n",
       "      <td>1.000000</td>\n",
       "      <td>0.160111</td>\n",
       "    </tr>\n",
       "    <tr>\n",
       "      <th>Rainfall</th>\n",
       "      <td>0.160111</td>\n",
       "      <td>1.000000</td>\n",
       "    </tr>\n",
       "  </tbody>\n",
       "</table>\n",
       "</div>"
      ],
      "text/plain": [
       "             Onion_Price  Rainfall\n",
       "Onion_Price     1.000000  0.160111\n",
       "Rainfall        0.160111  1.000000"
      ]
     },
     "execution_count": 15,
     "metadata": {},
     "output_type": "execute_result"
    }
   ],
   "source": [
    "corr = data.corr()\n",
    "corr"
   ]
  },
  {
   "cell_type": "code",
   "execution_count": 16,
   "metadata": {},
   "outputs": [
    {
     "data": {
      "image/png": "[encoded data removed]",
      "text/plain": [
       "<Figure size 720x720 with 2 Axes>"
      ]
     },
     "metadata": {
      "needs_background": "light"
     },
     "output_type": "display_data"
    }
   ],
   "source": [
    "fig,ax = plt.subplots(figsize=(10, 10))\n",
    "sns.heatmap(corr, annot = True, linewidths = 0.05, vmin = -1 , vmax = 1, cmap = \"YlGnBu\" , fmt = '10.4f')\n",
    "plt.show()"
   ]
  },
  {
   "cell_type": "markdown",
   "metadata": {},
   "source": [
    "# 3.How is the seasons affecting on the price of onion?\n"
   ]
  },
  {
   "cell_type": "code",
   "execution_count": 17,
   "metadata": {},
   "outputs": [],
   "source": [
    "#Adding a date coulum\n",
    "data['date'] = pd.to_datetime(data.CW.astype(str)+\n",
    "                           data.Year.astype(str).add('-1') ,format='%V%G-%u')\n"
   ]
  },
  {
   "cell_type": "code",
   "execution_count": 85,
   "metadata": {},
   "outputs": [],
   "source": [
    "#Addition of seasons based on the dates. \n",
    "#Spring=1\n",
    "#Summer=2\n",
    "#Monsoon=3\n",
    "#Winter=4\n",
    "def season_of_date(date):\n",
    "    year = str(date.year)\n",
    "    seasons = {1: pd.date_range(start='01/02/'+year, end='31/03/'+year),\n",
    "               2: pd.date_range(start='01/04/'+year, end='30/06/'+year),\n",
    "               3: pd.date_range(start='01/07/'+year, end='15/09/'+year)}\n",
    "    if date in seasons[1]:\n",
    "        return 1\n",
    "    if date in seasons[2]:\n",
    "        return 2\n",
    "    if date in seasons[3]:\n",
    "        return 3\n",
    "    else:\n",
    "        return 4\n",
    "\n",
    "# Assuming df has a date column of type `datetime`\n",
    "data['season'] = data.date.map(season_of_date)"
   ]
  },
  {
   "cell_type": "code",
   "execution_count": 89,
   "metadata": {},
   "outputs": [
    {
     "name": "stdout",
     "output_type": "stream",
     "text": [
      "P value for m1:  5.254427115630733e-09\n",
      "P value for m2:  2.374433150098554e-10\n",
      "P value for m3:  2.1869107913463637e-10\n",
      "P value for m3:  2.1869107913463637e-10\n",
      "P value for levene:  7.349065097277583e-17\n"
     ]
    }
   ],
   "source": [
    "alpha=0.05\n",
    "data.dropna(inplace=True)\n",
    "\n",
    "m1 = data[data['season'] == 1][\"Onion_Price\"]\n",
    "m2 = data[data['season'] == 2][\"Onion_Price\"]\n",
    "m3 = data[data['season'] == 3][\"Onion_Price\"]\n",
    "m4 = data[data['season'] == 4][\"Onion_Price\"]\n",
    "\n",
    "test, p_val = stats.shapiro(m1)\n",
    "print('P value for m1: ', p_val)\n",
    "\n",
    "test, p_val = stats.shapiro(m2)\n",
    "print('P value for m2: ', p_val)\n",
    "\n",
    "test, p_val = stats.shapiro(m3)\n",
    "print('P value for m3: ', p_val)\n",
    "\n",
    "test, p_val = stats.shapiro(m3)\n",
    "print('P value for m3: ', p_val)\n",
    "\n",
    "test, p_val = stats.levene(m1,m2,m3)\n",
    "print('P value for levene: ', p_val)\n",
    "\n",
    "#W_stat, p_value = shapiro(data[\"Onion_Price\"])\n",
    "#print('P_value for Shapiro : ', p_value)\n",
    "#print('Significance level: ',alpha)"
   ]
  },
  {
   "cell_type": "code",
   "execution_count": 86,
   "metadata": {},
   "outputs": [
    {
     "name": "stdout",
     "output_type": "stream",
     "text": [
      "P_value for Kruskal :  1.1983693306802372e-21\n",
      "Significance level:  0.05\n"
     ]
    }
   ],
   "source": [
    "test_stat, p_value = stats.kruskal(data[data['season'] == 1][\"Onion_Price\"],\n",
    "              data[data['season'] == 2][\"Onion_Price\"],\n",
    "              data[data['season'] == 3][\"Onion_Price\"],\n",
    "                                   data[data['season'] == 4][\"Onion_Price\"])\n",
    "print('P_value for Kruskal : ', p_value)\n",
    "print('Significance level: ',alpha)"
   ]
  },
  {
   "cell_type": "markdown",
   "metadata": {},
   "source": [
    "Null hypothesis = The onion price is same accross all the seasons\n",
    "\n",
    "Alternate hypothesis= The onion price is not same accross all the seasons"
   ]
  },
  {
   "cell_type": "markdown",
   "metadata": {},
   "source": [
    "Using ANOVA since we are trying to compare betweena categorical variable and a numerical variable\n",
    "One-way ANOVA helps us to determine how the seasons impact the price ranges of onion. \n",
    "\n",
    "How does ANOVA work?\n",
    "The ANOVA model starts by estimating the total amount of variation that exists Onion prices (this is why it is called Analysis of Variance)."
   ]
  },
  {
   "cell_type": "code",
   "execution_count": 51,
   "metadata": {},
   "outputs": [
    {
     "name": "stdout",
     "output_type": "stream",
     "text": [
      "             df        sum_sq       mean_sq          F        PR(>F)\n",
      "season      3.0  8.735479e+07  2.911826e+07  43.712966  4.093596e-26\n",
      "Residual  779.0  5.189107e+08  6.661241e+05        NaN           NaN\n"
     ]
    }
   ],
   "source": [
    "lm=ols('Onion_Price ~ season',data=data).fit()\n",
    "table=sm.stats.anova_lm(lm)\n",
    "print(table)"
   ]
  },
  {
   "cell_type": "markdown",
   "metadata": {},
   "source": [
    "Degrees of freedom;\n",
    "df1 = df of the explained part = number of groups — 1 (df1=3)\n",
    "df2 = df of the residual = number of observations — number of groups(df2=790-4=786)"
   ]
  },
  {
   "cell_type": "markdown",
   "metadata": {},
   "source": [
    "Sum of Squares:\n",
    "    variation is mathematically measured by the Sum of Squares"
   ]
  },
  {
   "cell_type": "code",
   "execution_count": 52,
   "metadata": {},
   "outputs": [
    {
     "data": {
      "text/plain": [
       "65.18341418780685"
      ]
     },
     "execution_count": 52,
     "metadata": {},
     "output_type": "execute_result"
    }
   ],
   "source": [
    "#From the ANOVA table we know that\n",
    "#Sum of squares\n",
    "SS_Explained=1.556926e+08\n",
    "SS_Residual=6.257951e+08\n",
    "\n",
    "#Degrees of freedom\n",
    "DF_Residual=786\n",
    "DF_Explained=3\n",
    "\n",
    "#Computing the Mean Squares\n",
    "MS_Explained=SS_Explained/DF_Explained\n",
    "MS_Residual=SS_Residual/DF_Residual\n",
    "\n",
    "#ANOVA F-test\n",
    "#Computing the F statistic\n",
    "f=MS_Explained/MS_Residual\n",
    "f"
   ]
  },
  {
   "cell_type": "markdown",
   "metadata": {},
   "source": [
    "P-value\n",
    "Compute the p-value"
   ]
  },
  {
   "cell_type": "code",
   "execution_count": 53,
   "metadata": {},
   "outputs": [
    {
     "data": {
      "text/plain": [
       "1.1102230246251565e-16"
      ]
     },
     "execution_count": 53,
     "metadata": {},
     "output_type": "execute_result"
    }
   ],
   "source": [
    "p_value=1-scipy.stats.f.cdf(f,DF_Explained,DF_Residual)\n",
    "p_value"
   ]
  },
  {
   "cell_type": "markdown",
   "metadata": {},
   "source": [
    "#Interpreting  p-value\n",
    "\n",
    "We have to compare the p-value to our chosen alpha, in this case, 0,05.\n",
    "Our p-value of 1.11 is less than 0,05, so we reject our null hypothesis and we accept our alternative. Even though the four season's sample means are different, we have a statistically significant difference.\n",
    "This means that with the observed data, there is enough evidence to assume that the onion price is different accross all the seasons. Therefore we  refject the null hypothesis and agree that the seasons have impact on the onion price ranges amoung the four states."
   ]
  },
  {
   "cell_type": "code",
   "execution_count": null,
   "metadata": {},
   "outputs": [],
   "source": []
  }
 ],
 "metadata": {
  "kernelspec": {
   "display_name": "Python 3",
   "language": "python",
   "name": "python3"
  },
  "language_info": {
   "codemirror_mode": {
    "name": "ipython",
    "version": 3
   },
   "file_extension": ".py",
   "mimetype": "text/x-python",
   "name": "python",
   "nbconvert_exporter": "python",
   "pygments_lexer": "ipython3",
   "version": "3.8.3"
  }
 },
 "nbformat": 4,
 "nbformat_minor": 4
}
