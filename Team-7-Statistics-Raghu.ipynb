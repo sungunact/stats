{
 "cells": [
  {
   "cell_type": "markdown",
   "metadata": {},
   "source": [
    " # Questions:\n",
    " \n",
    " 1. Is there any strong or weak correlation between rainfall & price of onion & Tomato ?\n",
    " 2. Is there any differences of price between states / Regions?\n",
    " 3. Is there any other factors apart from rainfall on the price of onion & Tomato?\n",
    " 4. How to analyse the supply & demand and decide which crop to harvest as a farmer?\n",
    " 5. which region is the best place to sell?\n",
    " 6. Average price of Onions is 1300. Prove it with 95% confidence level\n"
   ]
  },
  {
   "cell_type": "code",
   "execution_count": 1,
   "metadata": {},
   "outputs": [],
   "source": [
    "import pandas as pd\n",
    "import numpy as np\n",
    "import seaborn as sns\n",
    "import matplotlib.pyplot as plt\n",
    "import matplotlib\n",
    "%matplotlib inline\n",
    "import scipy\n",
    "import scipy.stats as stats\n",
    "\n",
    "\n",
    "# import statsmodels\n",
    "import statsmodels.api as sm\n",
    "\n",
    "# import statistics to perform statistical computations\n",
    "import statistics\n",
    "\n",
    "# to test the normality \n",
    "from scipy.stats import shapiro\n",
    "\n",
    "# import a library to perform Z-test\n",
    "from statsmodels.stats import weightstats as stests\n",
    "\n",
    "import statsmodels.api         as     sm\n",
    "from   statsmodels.formula.api import ols\n",
    "from   statsmodels.stats.anova import anova_lm"
   ]
  },
  {
   "cell_type": "code",
   "execution_count": 2,
   "metadata": {},
   "outputs": [],
   "source": [
    "data=pd.read_csv('Onion_weekly.csv')"
   ]
  },
  {
   "cell_type": "code",
   "execution_count": 3,
   "metadata": {},
   "outputs": [
    {
     "data": {
      "text/html": [
       "<div>\n",
       "<style scoped>\n",
       "    .dataframe tbody tr th:only-of-type {\n",
       "        vertical-align: middle;\n",
       "    }\n",
       "\n",
       "    .dataframe tbody tr th {\n",
       "        vertical-align: top;\n",
       "    }\n",
       "\n",
       "    .dataframe thead th {\n",
       "        text-align: right;\n",
       "    }\n",
       "</style>\n",
       "<table border=\"1\" class=\"dataframe\">\n",
       "  <thead>\n",
       "    <tr style=\"text-align: right;\">\n",
       "      <th></th>\n",
       "      <th>Year</th>\n",
       "      <th>CW</th>\n",
       "      <th>Location</th>\n",
       "      <th>Onion_Price</th>\n",
       "      <th>Rainfall</th>\n",
       "    </tr>\n",
       "  </thead>\n",
       "  <tbody>\n",
       "    <tr>\n",
       "      <th>0</th>\n",
       "      <td>2015</td>\n",
       "      <td>1</td>\n",
       "      <td>Bangalore</td>\n",
       "      <td>1200.0</td>\n",
       "      <td>5.5</td>\n",
       "    </tr>\n",
       "    <tr>\n",
       "      <th>1</th>\n",
       "      <td>2015</td>\n",
       "      <td>2</td>\n",
       "      <td>Bangalore</td>\n",
       "      <td>1359.0</td>\n",
       "      <td>5.5</td>\n",
       "    </tr>\n",
       "    <tr>\n",
       "      <th>2</th>\n",
       "      <td>2015</td>\n",
       "      <td>3</td>\n",
       "      <td>Bangalore</td>\n",
       "      <td>1208.0</td>\n",
       "      <td>5.5</td>\n",
       "    </tr>\n",
       "    <tr>\n",
       "      <th>3</th>\n",
       "      <td>2015</td>\n",
       "      <td>4</td>\n",
       "      <td>Bangalore</td>\n",
       "      <td>1352.0</td>\n",
       "      <td>5.5</td>\n",
       "    </tr>\n",
       "    <tr>\n",
       "      <th>4</th>\n",
       "      <td>2015</td>\n",
       "      <td>5</td>\n",
       "      <td>Bangalore</td>\n",
       "      <td>1323.0</td>\n",
       "      <td>5.5</td>\n",
       "    </tr>\n",
       "  </tbody>\n",
       "</table>\n",
       "</div>"
      ],
      "text/plain": [
       "   Year  CW   Location  Onion_Price  Rainfall\n",
       "0  2015   1  Bangalore       1200.0       5.5\n",
       "1  2015   2  Bangalore       1359.0       5.5\n",
       "2  2015   3  Bangalore       1208.0       5.5\n",
       "3  2015   4  Bangalore       1352.0       5.5\n",
       "4  2015   5  Bangalore       1323.0       5.5"
      ]
     },
     "execution_count": 3,
     "metadata": {},
     "output_type": "execute_result"
    }
   ],
   "source": [
    "data.head()"
   ]
  },
  {
   "cell_type": "markdown",
   "metadata": {},
   "source": [
    "step 1: describe the data\n",
    "Step 2 : plot the data with histogram, box plot, cross plot, heatmap (pearson correlation)\n",
    "step 3 : check whether the data is normal and variances are equal and decide what tests can be done based on the questions (1 sample z test or t-test) - hypothesis testing\n",
    "step 4 : Simulation\n",
    "step 5 : Conclude with the suggestions based on test results"
   ]
  },
  {
   "cell_type": "code",
   "execution_count": 14,
   "metadata": {},
   "outputs": [
    {
     "data": {
      "text/plain": [
       "(790, 5)"
      ]
     },
     "execution_count": 14,
     "metadata": {},
     "output_type": "execute_result"
    }
   ],
   "source": [
    "data.shape"
   ]
  },
  {
   "cell_type": "code",
   "execution_count": 15,
   "metadata": {},
   "outputs": [
    {
     "data": {
      "text/plain": [
       "Year             int64\n",
       "CW               int64\n",
       "Location        object\n",
       "Onion_Price    float64\n",
       "Rainfall       float64\n",
       "dtype: object"
      ]
     },
     "execution_count": 15,
     "metadata": {},
     "output_type": "execute_result"
    }
   ],
   "source": [
    "data.dtypes"
   ]
  },
  {
   "cell_type": "code",
   "execution_count": 16,
   "metadata": {},
   "outputs": [],
   "source": [
    "data['Year']=data['Year'].astype('object',copy='False')\n",
    "data['CW']=data['CW'].astype('object',copy='False')"
   ]
  },
  {
   "cell_type": "code",
   "execution_count": 17,
   "metadata": {},
   "outputs": [
    {
     "data": {
      "text/plain": [
       "Year            object\n",
       "CW              object\n",
       "Location        object\n",
       "Onion_Price    float64\n",
       "Rainfall       float64\n",
       "dtype: object"
      ]
     },
     "execution_count": 17,
     "metadata": {},
     "output_type": "execute_result"
    }
   ],
   "source": [
    "data.dtypes"
   ]
  },
  {
   "cell_type": "markdown",
   "metadata": {},
   "source": [
    "# description of the data"
   ]
  },
  {
   "cell_type": "code",
   "execution_count": 25,
   "metadata": {},
   "outputs": [
    {
     "data": {
      "text/html": [
       "<div>\n",
       "<style scoped>\n",
       "    .dataframe tbody tr th:only-of-type {\n",
       "        vertical-align: middle;\n",
       "    }\n",
       "\n",
       "    .dataframe tbody tr th {\n",
       "        vertical-align: top;\n",
       "    }\n",
       "\n",
       "    .dataframe thead th {\n",
       "        text-align: right;\n",
       "    }\n",
       "</style>\n",
       "<table border=\"1\" class=\"dataframe\">\n",
       "  <thead>\n",
       "    <tr style=\"text-align: right;\">\n",
       "      <th></th>\n",
       "      <th>Year</th>\n",
       "      <th>CW</th>\n",
       "      <th>Onion_Price</th>\n",
       "      <th>Rainfall</th>\n",
       "    </tr>\n",
       "  </thead>\n",
       "  <tbody>\n",
       "    <tr>\n",
       "      <th>count</th>\n",
       "      <td>790.000000</td>\n",
       "      <td>790.000000</td>\n",
       "      <td>783.000000</td>\n",
       "      <td>790.000000</td>\n",
       "    </tr>\n",
       "    <tr>\n",
       "      <th>mean</th>\n",
       "      <td>2015.993671</td>\n",
       "      <td>26.835443</td>\n",
       "      <td>1536.393359</td>\n",
       "      <td>225.254430</td>\n",
       "    </tr>\n",
       "    <tr>\n",
       "      <th>std</th>\n",
       "      <td>0.815695</td>\n",
       "      <td>15.214087</td>\n",
       "      <td>880.497340</td>\n",
       "      <td>303.469795</td>\n",
       "    </tr>\n",
       "    <tr>\n",
       "      <th>min</th>\n",
       "      <td>2015.000000</td>\n",
       "      <td>1.000000</td>\n",
       "      <td>321.000000</td>\n",
       "      <td>0.000000</td>\n",
       "    </tr>\n",
       "    <tr>\n",
       "      <th>25%</th>\n",
       "      <td>2015.000000</td>\n",
       "      <td>14.000000</td>\n",
       "      <td>794.500000</td>\n",
       "      <td>9.500000</td>\n",
       "    </tr>\n",
       "    <tr>\n",
       "      <th>50%</th>\n",
       "      <td>2016.000000</td>\n",
       "      <td>27.000000</td>\n",
       "      <td>1391.000000</td>\n",
       "      <td>71.800000</td>\n",
       "    </tr>\n",
       "    <tr>\n",
       "      <th>75%</th>\n",
       "      <td>2017.000000</td>\n",
       "      <td>40.000000</td>\n",
       "      <td>1909.500000</td>\n",
       "      <td>375.800000</td>\n",
       "    </tr>\n",
       "    <tr>\n",
       "      <th>max</th>\n",
       "      <td>2017.000000</td>\n",
       "      <td>53.000000</td>\n",
       "      <td>5533.000000</td>\n",
       "      <td>1272.100000</td>\n",
       "    </tr>\n",
       "  </tbody>\n",
       "</table>\n",
       "</div>"
      ],
      "text/plain": [
       "              Year          CW  Onion_Price     Rainfall\n",
       "count   790.000000  790.000000   783.000000   790.000000\n",
       "mean   2015.993671   26.835443  1536.393359   225.254430\n",
       "std       0.815695   15.214087   880.497340   303.469795\n",
       "min    2015.000000    1.000000   321.000000     0.000000\n",
       "25%    2015.000000   14.000000   794.500000     9.500000\n",
       "50%    2016.000000   27.000000  1391.000000    71.800000\n",
       "75%    2017.000000   40.000000  1909.500000   375.800000\n",
       "max    2017.000000   53.000000  5533.000000  1272.100000"
      ]
     },
     "execution_count": 25,
     "metadata": {},
     "output_type": "execute_result"
    }
   ],
   "source": [
    "data.describe()"
   ]
  },
  {
   "cell_type": "code",
   "execution_count": 6,
   "metadata": {},
   "outputs": [
    {
     "data": {
      "image/png": "[encoded data removed]",
      "text/plain": [
       "<Figure size 1440x720 with 10 Axes>"
      ]
     },
     "metadata": {
      "needs_background": "light"
     },
     "output_type": "display_data"
    }
   ],
   "source": [
    "from matplotlib import gridspec\n",
    "plt.rcParams['figure.figsize'] = [20,10]\n",
    "gs = gridspec.GridSpec(5,5, width_ratios=[15, 15, 15, 15, 15], height_ratios=[.80, .50, .15, .15, .15],hspace =1, wspace=0.5)\n",
    "a1 = plt.subplot(gs[0, 0])\n",
    "a1.set_title(\"Bangalore Price Distribution\", fontsize=15)\n",
    "a1=sns.distplot(data[data['Location']=='Bangalore']['Onion_Price'])\n",
    "\n",
    "a2 = plt.subplot(gs[0, 1])\n",
    "a2.set_title(\"Delhi Price Distribution\", fontsize=15)\n",
    "a2=sns.distplot(data[data['Location']=='Delhi']['Onion_Price'])\n",
    "\n",
    "a3 = plt.subplot(gs[0, 2])\n",
    "a3.set_title(\"Hyderabad Price Distribution\", fontsize=15)\n",
    "a3=sns.distplot(data[data['Location']=='Hyderabad']['Onion_Price'])\n",
    "\n",
    "a4 = plt.subplot(gs[0, 3])\n",
    "a4.set_title(\" Kolkata Price Distribution\", fontsize=15)\n",
    "a4=sns.distplot(data[data['Location']=='Kolkata']['Onion_Price'])\n",
    "\n",
    "a5 = plt.subplot(gs[0, 4])\n",
    "a5.set_title(\" Pune Price Distribution\", fontsize=15)\n",
    "a5=sns.distplot(data[data['Location']=='Pune']['Onion_Price'])\n",
    "\n",
    "b1 = plt.subplot(gs[1, 0])\n",
    "b1= sns.boxplot(data[data['Location']=='Bangalore']['Onion_Price'])\n",
    "\n",
    "b2 = plt.subplot(gs[1, 1])\n",
    "b2= sns.boxplot(data[data['Location']=='Delhi']['Onion_Price'])\n",
    "\n",
    "b3 = plt.subplot(gs[1, 2])\n",
    "b3= sns.boxplot(data[data['Location']=='Hyderabad']['Onion_Price'])\n",
    "\n",
    "\n",
    "b4 = plt.subplot(gs[1, 3])\n",
    "b4= sns.boxplot(data[data['Location']=='Kolkata']['Onion_Price'])\n",
    "\n",
    "b5 = plt.subplot(gs[1, 4])\n",
    "b5 = sns.boxplot(data[data['Location']=='Pune']['Onion_Price'])\n",
    "\n"
   ]
  },
  {
   "cell_type": "code",
   "execution_count": 8,
   "metadata": {},
   "outputs": [
    {
     "data": {
      "image/png": "[encoded data removed]",
      "text/plain": [
       "<Figure size 1440x720 with 1 Axes>"
      ]
     },
     "metadata": {
      "needs_background": "light"
     },
     "output_type": "display_data"
    }
   ],
   "source": [
    "sns.boxplot(x='Location',y='Onion_Price', data=data)\n",
    "plt.show()"
   ]
  },
  {
   "cell_type": "code",
   "execution_count": 20,
   "metadata": {},
   "outputs": [
    {
     "data": {
      "image/png": "[encoded data removed]",
      "text/plain": [
       "<Figure size 1440x720 with 1 Axes>"
      ]
     },
     "metadata": {
      "needs_background": "light"
     },
     "output_type": "display_data"
    }
   ],
   "source": [
    "sns.boxplot(x='Location',y='Rainfall', data=data)\n",
    "plt.show()\n"
   ]
  },
  {
   "cell_type": "code",
   "execution_count": 4,
   "metadata": {},
   "outputs": [
    {
     "data": {
      "text/html": [
       "<div>\n",
       "<style scoped>\n",
       "    .dataframe tbody tr th:only-of-type {\n",
       "        vertical-align: middle;\n",
       "    }\n",
       "\n",
       "    .dataframe tbody tr th {\n",
       "        vertical-align: top;\n",
       "    }\n",
       "\n",
       "    .dataframe thead th {\n",
       "        text-align: right;\n",
       "    }\n",
       "</style>\n",
       "<table border=\"1\" class=\"dataframe\">\n",
       "  <thead>\n",
       "    <tr style=\"text-align: right;\">\n",
       "      <th></th>\n",
       "      <th>Year</th>\n",
       "      <th>CW</th>\n",
       "      <th>Onion_Price</th>\n",
       "      <th>Rainfall</th>\n",
       "    </tr>\n",
       "  </thead>\n",
       "  <tbody>\n",
       "    <tr>\n",
       "      <th>Year</th>\n",
       "      <td>1.000000</td>\n",
       "      <td>-0.013361</td>\n",
       "      <td>-0.227536</td>\n",
       "      <td>0.011832</td>\n",
       "    </tr>\n",
       "    <tr>\n",
       "      <th>CW</th>\n",
       "      <td>-0.013361</td>\n",
       "      <td>1.000000</td>\n",
       "      <td>0.326444</td>\n",
       "      <td>0.193348</td>\n",
       "    </tr>\n",
       "    <tr>\n",
       "      <th>Onion_Price</th>\n",
       "      <td>-0.227536</td>\n",
       "      <td>0.326444</td>\n",
       "      <td>1.000000</td>\n",
       "      <td>0.160111</td>\n",
       "    </tr>\n",
       "    <tr>\n",
       "      <th>Rainfall</th>\n",
       "      <td>0.011832</td>\n",
       "      <td>0.193348</td>\n",
       "      <td>0.160111</td>\n",
       "      <td>1.000000</td>\n",
       "    </tr>\n",
       "  </tbody>\n",
       "</table>\n",
       "</div>"
      ],
      "text/plain": [
       "                 Year        CW  Onion_Price  Rainfall\n",
       "Year         1.000000 -0.013361    -0.227536  0.011832\n",
       "CW          -0.013361  1.000000     0.326444  0.193348\n",
       "Onion_Price -0.227536  0.326444     1.000000  0.160111\n",
       "Rainfall     0.011832  0.193348     0.160111  1.000000"
      ]
     },
     "execution_count": 4,
     "metadata": {},
     "output_type": "execute_result"
    }
   ],
   "source": [
    "corr = data.corr()\n",
    "corr"
   ]
  },
  {
   "cell_type": "code",
   "execution_count": 5,
   "metadata": {},
   "outputs": [
    {
     "data": {
      "image/png": "[encoded data removed]",
      "text/plain": [
       "<Figure size 720x720 with 2 Axes>"
      ]
     },
     "metadata": {
      "needs_background": "light"
     },
     "output_type": "display_data"
    }
   ],
   "source": [
    "fig,ax = plt.subplots(figsize=(10, 10))\n",
    "sns.heatmap(corr, annot = True, linewidths = 0.05, vmin = -1 , vmax = 1, cmap = \"YlGnBu\" , fmt = '10.4f')\n",
    "plt.show()"
   ]
  },
  {
   "cell_type": "markdown",
   "metadata": {},
   "source": [
    "# 3.How is the seasons affecting on the price of onion?\n"
   ]
  },
  {
   "cell_type": "code",
   "execution_count": 24,
   "metadata": {},
   "outputs": [],
   "source": [
    "#Adding a date coulum\n",
    "data['date'] = pd.to_datetime(data.CW.astype(str)+\n",
    "                           data.Year.astype(str).add('-1') ,format='%V%G-%u')\n"
   ]
  },
  {
   "cell_type": "code",
   "execution_count": null,
   "metadata": {},
   "outputs": [],
   "source": [
    "#Addition of seasons based on the dates. \n",
    "def season_of_date(date):\n",
    "    year = str(date.year)\n",
    "    seasons = {'Spring': pd.date_range(start='01/02/'+year, end='31/03/'+year),\n",
    "               'Summer': pd.date_range(start='01/04/'+year, end='30/06/'+year),\n",
    "               'Monsoon': pd.date_range(start='01/07/'+year, end='15/09/'+year)}\n",
    "    if date in seasons['Spring']:\n",
    "        return 'Spring'\n",
    "    if date in seasons['Summer']:\n",
    "        return 'Summer'\n",
    "    if date in seasons['Monsoon']:\n",
    "        return 'Monsoon'\n",
    "    else:\n",
    "        return 'Winter'\n",
    "\n",
    "# Assuming df has a date column of type `datetime`\n",
    "data['season'] = data.date.map(season_of_date)"
   ]
  },
  {
   "cell_type": "markdown",
   "metadata": {},
   "source": [
    "Null hypothesis = The onion price is same accross all the seasons\n",
    "\n",
    "Alternate hypothesis= The onion price is not same accross all the seasons"
   ]
  },
  {
   "cell_type": "markdown",
   "metadata": {},
   "source": [
    "Using ANOVA since we are trying to compare betweena categorical variable and a numerical variable\n",
    "One-way ANOVA helps us to determine how the seasons impact the price ranges of onion. \n",
    "\n",
    "How does ANOVA work?\n",
    "The ANOVA model starts by estimating the total amount of variation that exists Onion prices (this is why it is called Analysis of Variance)."
   ]
  },
  {
   "cell_type": "code",
   "execution_count": null,
   "metadata": {},
   "outputs": [],
   "source": [
    "lm=ols('Onion_Price ~ season',data=data).fit()\n",
    "table=sm.stats.anova_lm(lm)\n",
    "print(table)"
   ]
  },
  {
   "cell_type": "markdown",
   "metadata": {},
   "source": [
    "Degrees of freedom;\n",
    "df1 = df of the explained part = number of groups — 1 (df1=3)\n",
    "df2 = df of the residual = number of observations — number of groups(df2=790-4=786)"
   ]
  },
  {
   "cell_type": "markdown",
   "metadata": {},
   "source": [
    "Sum of Squares:\n",
    "    variation is mathematically measured by the Sum of Squares"
   ]
  },
  {
   "cell_type": "code",
   "execution_count": 28,
   "metadata": {},
   "outputs": [
    {
     "data": {
      "text/plain": [
       "65.18341418780685"
      ]
     },
     "execution_count": 28,
     "metadata": {},
     "output_type": "execute_result"
    }
   ],
   "source": [
    "#From the ANOVA table we know that\n",
    "#Sum of squares\n",
    "SS_Explained=1.556926e+08\n",
    "SS_Residual=6.257951e+08\n",
    "\n",
    "#Degrees of freedom\n",
    "DF_Residual=786\n",
    "DF_Explained=3\n",
    "\n",
    "#Computing the Mean Squares\n",
    "MS_Explained=SS_Explained/DF_Explained\n",
    "MS_Residual=SS_Residual/DF_Residual\n",
    "\n",
    "#ANOVA F-test\n",
    "#Computing the F statistic\n",
    "f=MS_Explained/MS_Residual\n",
    "f"
   ]
  },
  {
   "cell_type": "markdown",
   "metadata": {},
   "source": [
    "P-value\n",
    "Compute the p-value"
   ]
  },
  {
   "cell_type": "code",
   "execution_count": 29,
   "metadata": {},
   "outputs": [
    {
     "data": {
      "text/plain": [
       "1.1102230246251565e-16"
      ]
     },
     "execution_count": 29,
     "metadata": {},
     "output_type": "execute_result"
    }
   ],
   "source": [
    "p_value=1-scipy.stats.f.cdf(f,DF_Explained,DF_Residual)\n",
    "p_value"
   ]
  },
  {
   "cell_type": "markdown",
   "metadata": {},
   "source": [
    "#Interpreting  p-value\n",
    "\n",
    "We have to compare the p-value to our chosen alpha, in this case, 0,05.\n",
    "Our p-value of 1.11 is less than 0,05, so we reject our null hypothesis and we accept our alternative. Even though the four season's sample means are different, we have a statistically significant difference.\n",
    "This means that with the observed data, there is enough evidence to assume that the onion price is different accross all the seasons. Therefore we  refject the null hypothesis and agree that the seasons have impact on the onion price ranges amoung the four states."
   ]
  },
  {
   "cell_type": "markdown",
   "metadata": {},
   "source": [
    "# Hypothesis Testing:\n",
    "#1. The prices of onions are compared between two years i.e. 2015 & 2017\n",
    "\n",
    "Let 𝐹𝑋 be the distribution of onion prices in the year 2015 and 𝐹𝑌 be the distribution of onion prices in the year 2017.\n",
    "\n",
    "Where,\n",
    "\n",
    "The null and alternative hypothesis is:\n",
    "\n",
    "H0: 𝐹𝑋=𝐹𝑌 H1: 𝐹𝑋≠𝐹𝑌"
   ]
  },
  {
   "cell_type": "code",
   "execution_count": 9,
   "metadata": {},
   "outputs": [
    {
     "name": "stdout",
     "output_type": "stream",
     "text": [
      "P-Value: 3.7240303143125296e-17\n"
     ]
    }
   ],
   "source": [
    "data_2015=data[data['Year']==2015]['Onion_Price']\n",
    "#to check the normlity of the data\n",
    "stat, p_value = shapiro(data_2015)\n",
    "print('P-Value:', p_value)"
   ]
  },
  {
   "cell_type": "markdown",
   "metadata": {},
   "source": [
    "From the above result, we can see that the p-value is less than 0.05, thus we can say that the Onion prices in the year 2015 is  not normally distributed"
   ]
  },
  {
   "cell_type": "code",
   "execution_count": 10,
   "metadata": {},
   "outputs": [
    {
     "name": "stdout",
     "output_type": "stream",
     "text": [
      "P-Value: 1.0\n"
     ]
    }
   ],
   "source": [
    "data_2017=data[data['Year']==2017]['Onion_Price']\n",
    "#to check the normlity of the data\n",
    "stat, p_value = shapiro(data_2017)\n",
    "print('P-Value:', p_value)"
   ]
  },
  {
   "cell_type": "markdown",
   "metadata": {},
   "source": [
    "From the above result, we can see that the p-value is more than 0.05, thus we can say that the Onion prices in the year 2017 is  normally distributed. \n",
    "Hence considering the above conditions, Mann-Whitney U Test will be applied for comparision"
   ]
  },
  {
   "cell_type": "markdown",
   "metadata": {},
   "source": [
    "# Mann-Whitney U Test"
   ]
  },
  {
   "cell_type": "code",
   "execution_count": 24,
   "metadata": {},
   "outputs": [
    {
     "name": "stdout",
     "output_type": "stream",
     "text": [
      "Test statistic: 42527.5\n",
      "p-value: 3.356167763975583e-06\n"
     ]
    }
   ],
   "source": [
    "test_stat, p_value = stats.mannwhitneyu(data_2015, data_2017, alternative = 'two-sided')\n",
    "\n",
    "# print the test statistic and corresponding p-value\n",
    "print('Test statistic:', test_stat)\n",
    "print('p-value:', p_value)"
   ]
  },
  {
   "cell_type": "markdown",
   "metadata": {},
   "source": [
    "Here the p-value is lesser than 0.05. Thus we reject the null hypothesis and we can conclude that the average onion price is not same for both the years 2015 & 2017."
   ]
  },
  {
   "cell_type": "markdown",
   "metadata": {},
   "source": [
    "#2. The prices of onions are compared between two cities i.e. Bangalore & Kolkata\n",
    "\n",
    "Let 𝐹𝑋 be the distribution of onion prices in the year Kolkata and 𝐹𝑌 be the distribution of onion prices in the year Bangalore.\n",
    "\n",
    "Where,\n",
    "\n",
    "The null and alternative hypothesis is:\n",
    "\n",
    "H0: 𝐹𝑋<=𝐹𝑌 H1: 𝐹𝑋>𝐹𝑌"
   ]
  },
  {
   "cell_type": "code",
   "execution_count": null,
   "metadata": {},
   "outputs": [],
   "source": [
    "data_bang_price=data[data['Location']=='Bangalore']['Onion_Price']\n",
    "#to check the normlity of the data\n",
    "stat, p_value = shapiro(data_bang_price)\n",
    "print('P-Value:', p_value)"
   ]
  },
  {
   "cell_type": "code",
   "execution_count": 20,
   "metadata": {},
   "outputs": [
    {
     "name": "stdout",
     "output_type": "stream",
     "text": [
      "P-Value: 1.0\n"
     ]
    }
   ],
   "source": [
    "data_Kolk_price=data[data['Location']=='Kolkata']['Onion_Price']\n",
    "#to check the normlity of the data\n",
    "stat, p_value = shapiro(data_Kolk_price)\n",
    "print('P-Value:', p_value)"
   ]
  },
  {
   "cell_type": "code",
   "execution_count": 23,
   "metadata": {},
   "outputs": [
    {
     "name": "stdout",
     "output_type": "stream",
     "text": [
      "Test statistic: 6938.0\n",
      "p-value: 8.70658145841571e-12\n"
     ]
    }
   ],
   "source": [
    "test_stat, p_value = stats.mannwhitneyu(data_bang_price, data_Kolk_price, alternative = 'two-sided')\n",
    "\n",
    "# print the test statistic and corresponding p-value\n",
    "print('Test statistic:', test_stat)\n",
    "print('p-value:', p_value)"
   ]
  },
  {
   "cell_type": "markdown",
   "metadata": {},
   "source": [
    "Here the p-value is lesser than 0.05. Thus we reject the null hypothesis and we can conclude that the average onion price of bangalore is less than that of Kolkata."
   ]
  },
  {
   "cell_type": "code",
   "execution_count": null,
   "metadata": {},
   "outputs": [],
   "source": []
  }
 ],
 "metadata": {
  "kernelspec": {
   "display_name": "Python 3",
   "language": "python",
   "name": "python3"
  },
  "language_info": {
   "codemirror_mode": {
    "name": "ipython",
    "version": 3
   },
   "file_extension": ".py",
   "mimetype": "text/x-python",
   "name": "python",
   "nbconvert_exporter": "python",
   "pygments_lexer": "ipython3",
   "version": "3.7.6"
  }
 },
 "nbformat": 4,
 "nbformat_minor": 4
}
